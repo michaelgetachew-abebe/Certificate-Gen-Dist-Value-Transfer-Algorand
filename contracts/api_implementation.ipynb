{
 "cells": [
  {
   "cell_type": "code",
   "execution_count": 1,
   "metadata": {},
   "outputs": [],
   "source": [
    "import json\n",
    "import time\n",
    "import base64\n",
    "from algosdk.v2client import algod\n",
    "from algosdk import mnemonic, account\n",
    "from algosdk import transaction\n",
    "\n",
    "algod_token =<algo-token>\n",
    "algod_address = 'https://testnet-algorand.api.purestake.io/ps2'\n",
    "purestake_token = {'X-Api-key': algod_token}"
   ]
  },
  {
   "cell_type": "code",
   "execution_count": 2,
   "metadata": {},
   "outputs": [],
   "source": [
    "private_key1, address1 = account.generate_account()\n",
    "private_key2, address2 = account.generate_account()"
   ]
  },
  {
   "cell_type": "code",
   "execution_count": 10,
   "metadata": {},
   "outputs": [
    {
     "data": {
      "text/plain": [
       "'ZHFDAUSZXTFPFJ4QPODDU6V3OEEKPRKSXR7I4D6OQGNZ4QCSDLHM6Q5LJI'"
      ]
     },
     "execution_count": 10,
     "metadata": {},
     "output_type": "execute_result"
    }
   ],
   "source": [
    "address1"
   ]
  },
  {
   "cell_type": "code",
   "execution_count": 3,
   "metadata": {},
   "outputs": [],
   "source": [
    "algodclient = algod.AlgodClient(algod_token, algod_address, headers=purestake_token)"
   ]
  },
  {
   "cell_type": "code",
   "execution_count": 12,
   "metadata": {},
   "outputs": [
    {
     "name": "stdout",
     "output_type": "stream",
     "text": [
      "Account balance: 10000000 microAlgos\n",
      "\n"
     ]
    }
   ],
   "source": [
    "account_info = algodclient.account_info(address1)\n",
    "print(\"Account balance: {} microAlgos\".format(account_info.get('amount')) + \"\\n\")"
   ]
  },
  {
   "cell_type": "code",
   "execution_count": 9,
   "metadata": {},
   "outputs": [
    {
     "name": "stdout",
     "output_type": "stream",
     "text": [
      "Account balance: 0 microAlgos\n",
      "\n"
     ]
    }
   ],
   "source": [
    "account_info = algodclient.account_info(address2)\n",
    "print(\"Account balance: {} microAlgos\".format(account_info.get('amount')) + \"\\n\")"
   ]
  },
  {
   "cell_type": "code",
   "execution_count": 5,
   "metadata": {},
   "outputs": [],
   "source": [
    "params = algodclient.suggested_params()\n",
    "\n",
    "gh = params.gh\n",
    "first_valid_round = params.first\n",
    "last_valid_round = params.last\n",
    "fee = params.min_fee\n",
    "send_amount = 1000000\n",
    "\n",
    "existing_account = address1\n",
    "send_to_address = address2"
   ]
  },
  {
   "cell_type": "code",
   "execution_count": 6,
   "metadata": {},
   "outputs": [],
   "source": [
    "tx = transaction.PaymentTxn(existing_account, fee, first_valid_round, last_valid_round, gh, send_to_address, send_amount, flat_fee=True)\n",
    "signed_tx = tx.sign(private_key1)"
   ]
  },
  {
   "cell_type": "code",
   "execution_count": 7,
   "metadata": {},
   "outputs": [],
   "source": [
    "# Function from Algorand Inc. - utility for waiting on a transaction confirmation\n",
    "def wait_for_confirmation(client, txid):\n",
    "    last_round = client.status().get('last-round')\n",
    "    txinfo = client.pending_transaction_info(txid)\n",
    "    while not (txinfo.get('confirmed-round') and txinfo.get('confirmed-round') > 0):\n",
    "        print('Waiting for confirmation')\n",
    "        last_round += 1\n",
    "        client.status_after_block(last_round)\n",
    "        txinfo = client.pending_transaction_info(txid)\n",
    "    print('Transaction confirmed in round', txinfo.get('confirmed-round'))\n",
    "    return txinfo"
   ]
  },
  {
   "cell_type": "code",
   "execution_count": 13,
   "metadata": {},
   "outputs": [
    {
     "name": "stdout",
     "output_type": "stream",
     "text": [
      "Transaction sent with ID OMF5GV5NJWGGQ45IPMM536YP3CDCPI3WTKX33NDEPCGK7SVCUYDQ\n",
      "Waiting for confirmation\n",
      "Transaction confirmed in round 24399576\n"
     ]
    }
   ],
   "source": [
    "try:\n",
    "    tx_confirm = algodclient.send_transaction(signed_tx)\n",
    "    print('Transaction sent with ID', signed_tx.transaction.get_txid())\n",
    "    wait_for_confirmation(algodclient, txid=signed_tx.transaction.get_txid())\n",
    "except Exception as e:\n",
    "    print(e)"
   ]
  },
  {
   "cell_type": "code",
   "execution_count": null,
   "metadata": {},
   "outputs": [],
   "source": []
  }
 ],
 "metadata": {
  "kernelspec": {
   "display_name": "Python 3.9.7 ('venv': venv)",
   "language": "python",
   "name": "python3"
  },
  "language_info": {
   "codemirror_mode": {
    "name": "ipython",
    "version": 3
   },
   "file_extension": ".py",
   "mimetype": "text/x-python",
   "name": "python",
   "nbconvert_exporter": "python",
   "pygments_lexer": "ipython3",
   "version": "3.9.7"
  },
  "orig_nbformat": 4,
  "vscode": {
   "interpreter": {
    "hash": "fa2589e48567a8e9abb73dc6ff8afb2f6977cdac113b0ac7220db3e484be04bd"
   }
  }
 },
 "nbformat": 4,
 "nbformat_minor": 2
}
